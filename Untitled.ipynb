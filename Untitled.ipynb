{
 "cells": [
  {
   "cell_type": "code",
   "execution_count": 18,
   "id": "8a24a40a",
   "metadata": {},
   "outputs": [],
   "source": [
    "import json # The package to load the file\n",
    "\n",
    "\n",
    "file = open('Sarcasm_Headlines_Dataset.json','r', encoding=\"utf8\")\n",
    "data = []\n",
    "for eachElement in file.readlines():\n",
    "    data.append(json.loads(eachElement))\n",
    "##"
   ]
  },
  {
   "cell_type": "code",
   "execution_count": 2,
   "id": "dd0b8cbe",
   "metadata": {},
   "outputs": [
    {
     "ename": "NameError",
     "evalue": "name 'df' is not defined",
     "output_type": "error",
     "traceback": [
      "\u001b[1;31m---------------------------------------------------------------------------\u001b[0m",
      "\u001b[1;31mNameError\u001b[0m                                 Traceback (most recent call last)",
      "Input \u001b[1;32mIn [2]\u001b[0m, in \u001b[0;36m<cell line: 1>\u001b[1;34m()\u001b[0m\n\u001b[1;32m----> 1\u001b[0m \u001b[43mdf\u001b[49m[\u001b[38;5;124m\"\u001b[39m\u001b[38;5;124mheadLine\u001b[39m\u001b[38;5;124m\"\u001b[39m][\u001b[38;5;241m4\u001b[39m]\n",
      "\u001b[1;31mNameError\u001b[0m: name 'df' is not defined"
     ]
    }
   ],
   "source": [
    "df[\"headLine\"][4]"
   ]
  },
  {
   "cell_type": "code",
   "execution_count": 19,
   "id": "59caa6f7",
   "metadata": {},
   "outputs": [],
   "source": [
    "linkColumn = [w.get(\"article_link\") for w in data]\n",
    "headLine = [w.get(\"headline\") for w in data]\n",
    "is_sarcastic = [w.get(\"is_sarcastic\") for w in data]"
   ]
  },
  {
   "cell_type": "code",
   "execution_count": 20,
   "id": "394fb821",
   "metadata": {},
   "outputs": [
    {
     "data": {
      "text/plain": [
       "Counter({0: 14985, 1: 11724})"
      ]
     },
     "execution_count": 20,
     "metadata": {},
     "output_type": "execute_result"
    }
   ],
   "source": [
    "from collections import Counter\n",
    "Counter(is_sarcastic)"
   ]
  },
  {
   "cell_type": "code",
   "execution_count": 21,
   "id": "cc779410",
   "metadata": {},
   "outputs": [],
   "source": [
    "import pandas as pd\n",
    "df = pd.DataFrame(data = {\"is_sarcastic\": is_sarcastic, \"headLine\" : headLine , \"link\" : linkColumn})"
   ]
  },
  {
   "cell_type": "code",
   "execution_count": 22,
   "id": "4b0427f8",
   "metadata": {},
   "outputs": [
    {
     "data": {
      "text/plain": [
       "26709"
      ]
     },
     "execution_count": 22,
     "metadata": {},
     "output_type": "execute_result"
    }
   ],
   "source": [
    "len(df)"
   ]
  },
  {
   "cell_type": "code",
   "execution_count": 23,
   "id": "042b4fc9",
   "metadata": {},
   "outputs": [
    {
     "data": {
      "text/html": [
       "<div>\n",
       "<style scoped>\n",
       "    .dataframe tbody tr th:only-of-type {\n",
       "        vertical-align: middle;\n",
       "    }\n",
       "\n",
       "    .dataframe tbody tr th {\n",
       "        vertical-align: top;\n",
       "    }\n",
       "\n",
       "    .dataframe thead th {\n",
       "        text-align: right;\n",
       "    }\n",
       "</style>\n",
       "<table border=\"1\" class=\"dataframe\">\n",
       "  <thead>\n",
       "    <tr style=\"text-align: right;\">\n",
       "      <th></th>\n",
       "      <th>is_sarcastic</th>\n",
       "      <th>headLine</th>\n",
       "      <th>link</th>\n",
       "    </tr>\n",
       "  </thead>\n",
       "  <tbody>\n",
       "    <tr>\n",
       "      <th>0</th>\n",
       "      <td>0</td>\n",
       "      <td>former versace store clerk sues over secret 'b...</td>\n",
       "      <td>https://www.huffingtonpost.com/entry/versace-b...</td>\n",
       "    </tr>\n",
       "    <tr>\n",
       "      <th>1</th>\n",
       "      <td>0</td>\n",
       "      <td>the 'roseanne' revival catches up to our thorn...</td>\n",
       "      <td>https://www.huffingtonpost.com/entry/roseanne-...</td>\n",
       "    </tr>\n",
       "    <tr>\n",
       "      <th>2</th>\n",
       "      <td>1</td>\n",
       "      <td>mom starting to fear son's web series closest ...</td>\n",
       "      <td>https://local.theonion.com/mom-starting-to-fea...</td>\n",
       "    </tr>\n",
       "    <tr>\n",
       "      <th>3</th>\n",
       "      <td>1</td>\n",
       "      <td>boehner just wants wife to listen, not come up...</td>\n",
       "      <td>https://politics.theonion.com/boehner-just-wan...</td>\n",
       "    </tr>\n",
       "    <tr>\n",
       "      <th>4</th>\n",
       "      <td>0</td>\n",
       "      <td>j.k. rowling wishes snape happy birthday in th...</td>\n",
       "      <td>https://www.huffingtonpost.com/entry/jk-rowlin...</td>\n",
       "    </tr>\n",
       "    <tr>\n",
       "      <th>...</th>\n",
       "      <td>...</td>\n",
       "      <td>...</td>\n",
       "      <td>...</td>\n",
       "    </tr>\n",
       "    <tr>\n",
       "      <th>26704</th>\n",
       "      <td>0</td>\n",
       "      <td>american politics in moral free-fall</td>\n",
       "      <td>https://www.huffingtonpost.com/entry/american-...</td>\n",
       "    </tr>\n",
       "    <tr>\n",
       "      <th>26705</th>\n",
       "      <td>0</td>\n",
       "      <td>america's best 20 hikes</td>\n",
       "      <td>https://www.huffingtonpost.com/entry/americas-...</td>\n",
       "    </tr>\n",
       "    <tr>\n",
       "      <th>26706</th>\n",
       "      <td>0</td>\n",
       "      <td>reparations and obama</td>\n",
       "      <td>https://www.huffingtonpost.com/entry/reparatio...</td>\n",
       "    </tr>\n",
       "    <tr>\n",
       "      <th>26707</th>\n",
       "      <td>0</td>\n",
       "      <td>israeli ban targeting boycott supporters raise...</td>\n",
       "      <td>https://www.huffingtonpost.com/entry/israeli-b...</td>\n",
       "    </tr>\n",
       "    <tr>\n",
       "      <th>26708</th>\n",
       "      <td>0</td>\n",
       "      <td>gourmet gifts for the foodie 2014</td>\n",
       "      <td>https://www.huffingtonpost.com/entry/gourmet-g...</td>\n",
       "    </tr>\n",
       "  </tbody>\n",
       "</table>\n",
       "<p>26709 rows × 3 columns</p>\n",
       "</div>"
      ],
      "text/plain": [
       "       is_sarcastic                                           headLine  \\\n",
       "0                 0  former versace store clerk sues over secret 'b...   \n",
       "1                 0  the 'roseanne' revival catches up to our thorn...   \n",
       "2                 1  mom starting to fear son's web series closest ...   \n",
       "3                 1  boehner just wants wife to listen, not come up...   \n",
       "4                 0  j.k. rowling wishes snape happy birthday in th...   \n",
       "...             ...                                                ...   \n",
       "26704             0               american politics in moral free-fall   \n",
       "26705             0                            america's best 20 hikes   \n",
       "26706             0                              reparations and obama   \n",
       "26707             0  israeli ban targeting boycott supporters raise...   \n",
       "26708             0                  gourmet gifts for the foodie 2014   \n",
       "\n",
       "                                                    link  \n",
       "0      https://www.huffingtonpost.com/entry/versace-b...  \n",
       "1      https://www.huffingtonpost.com/entry/roseanne-...  \n",
       "2      https://local.theonion.com/mom-starting-to-fea...  \n",
       "3      https://politics.theonion.com/boehner-just-wan...  \n",
       "4      https://www.huffingtonpost.com/entry/jk-rowlin...  \n",
       "...                                                  ...  \n",
       "26704  https://www.huffingtonpost.com/entry/american-...  \n",
       "26705  https://www.huffingtonpost.com/entry/americas-...  \n",
       "26706  https://www.huffingtonpost.com/entry/reparatio...  \n",
       "26707  https://www.huffingtonpost.com/entry/israeli-b...  \n",
       "26708  https://www.huffingtonpost.com/entry/gourmet-g...  \n",
       "\n",
       "[26709 rows x 3 columns]"
      ]
     },
     "execution_count": 23,
     "metadata": {},
     "output_type": "execute_result"
    }
   ],
   "source": [
    "df"
   ]
  },
  {
   "cell_type": "code",
   "execution_count": 24,
   "id": "2ef4b6cb",
   "metadata": {},
   "outputs": [],
   "source": [
    "from sklearn.model_selection import train_test_split\n",
    "\n",
    "headLineText = df[\"headLine\"]\n",
    "annotation_text, notAnno , annotation_result, notResult= train_test_split(df[\"headLine\"], df[\"is_sarcastic\"], test_size=0.996, random_state=42)"
   ]
  },
  {
   "cell_type": "code",
   "execution_count": 25,
   "id": "e21aeb09",
   "metadata": {},
   "outputs": [
    {
     "data": {
      "text/plain": [
       "8571     1\n",
       "6331     0\n",
       "21243    1\n",
       "12185    1\n",
       "21271    1\n",
       "        ..\n",
       "21575    1\n",
       "5390     1\n",
       "860      0\n",
       "15795    1\n",
       "23654    0\n",
       "Name: is_sarcastic, Length: 106, dtype: int64"
      ]
     },
     "execution_count": 25,
     "metadata": {},
     "output_type": "execute_result"
    }
   ],
   "source": [
    "annotation_result"
   ]
  },
  {
   "cell_type": "code",
   "execution_count": null,
   "id": "07ef5e53",
   "metadata": {},
   "outputs": [],
   "source": []
  },
  {
   "cell_type": "code",
   "execution_count": 26,
   "id": "04dbeb56",
   "metadata": {},
   "outputs": [],
   "source": [
    "exportDF = pd.DataFrame(data = {\"text\": annotation_text})"
   ]
  },
  {
   "cell_type": "code",
   "execution_count": 27,
   "id": "f4bf7fcf",
   "metadata": {},
   "outputs": [],
   "source": [
    "exportDF.to_csv(\"annotationText.csv\")"
   ]
  },
  {
   "cell_type": "code",
   "execution_count": 11,
   "id": "5f5f05b5",
   "metadata": {},
   "outputs": [],
   "source": [
    "annotationResult = pd.read_csv(\"Result.csv\")"
   ]
  },
  {
   "cell_type": "code",
   "execution_count": 12,
   "id": "a71e308d",
   "metadata": {},
   "outputs": [
    {
     "data": {
      "text/html": [
       "<div>\n",
       "<style scoped>\n",
       "    .dataframe tbody tr th:only-of-type {\n",
       "        vertical-align: middle;\n",
       "    }\n",
       "\n",
       "    .dataframe tbody tr th {\n",
       "        vertical-align: top;\n",
       "    }\n",
       "\n",
       "    .dataframe thead th {\n",
       "        text-align: right;\n",
       "    }\n",
       "</style>\n",
       "<table border=\"1\" class=\"dataframe\">\n",
       "  <thead>\n",
       "    <tr style=\"text-align: right;\">\n",
       "      <th></th>\n",
       "      <th>index</th>\n",
       "      <th>Fei</th>\n",
       "      <th>Yixin</th>\n",
       "      <th>Kpu</th>\n",
       "      <th>text</th>\n",
       "    </tr>\n",
       "  </thead>\n",
       "  <tbody>\n",
       "    <tr>\n",
       "      <th>0</th>\n",
       "      <td>8571</td>\n",
       "      <td>1</td>\n",
       "      <td>1</td>\n",
       "      <td>0</td>\n",
       "      <td>disappointing prince vaults found to contain 3...</td>\n",
       "    </tr>\n",
       "    <tr>\n",
       "      <th>1</th>\n",
       "      <td>6331</td>\n",
       "      <td>0</td>\n",
       "      <td>0</td>\n",
       "      <td>0</td>\n",
       "      <td>sacred sites</td>\n",
       "    </tr>\n",
       "    <tr>\n",
       "      <th>2</th>\n",
       "      <td>21243</td>\n",
       "      <td>1</td>\n",
       "      <td>1</td>\n",
       "      <td>1</td>\n",
       "      <td>attending 'price is right' taping apparently s...</td>\n",
       "    </tr>\n",
       "    <tr>\n",
       "      <th>3</th>\n",
       "      <td>12185</td>\n",
       "      <td>1</td>\n",
       "      <td>1</td>\n",
       "      <td>1</td>\n",
       "      <td>mugger can't believe crap victim has on mp3 pl...</td>\n",
       "    </tr>\n",
       "    <tr>\n",
       "      <th>4</th>\n",
       "      <td>21271</td>\n",
       "      <td>0</td>\n",
       "      <td>0</td>\n",
       "      <td>0</td>\n",
       "      <td>study finds majority of non-shark-related fear...</td>\n",
       "    </tr>\n",
       "    <tr>\n",
       "      <th>...</th>\n",
       "      <td>...</td>\n",
       "      <td>...</td>\n",
       "      <td>...</td>\n",
       "      <td>...</td>\n",
       "      <td>...</td>\n",
       "    </tr>\n",
       "    <tr>\n",
       "      <th>101</th>\n",
       "      <td>21575</td>\n",
       "      <td>1</td>\n",
       "      <td>0</td>\n",
       "      <td>1</td>\n",
       "      <td>college newspaper staff know exactly how they ...</td>\n",
       "    </tr>\n",
       "    <tr>\n",
       "      <th>102</th>\n",
       "      <td>5390</td>\n",
       "      <td>1</td>\n",
       "      <td>1</td>\n",
       "      <td>1</td>\n",
       "      <td>nation curious after discovering mysterious, e...</td>\n",
       "    </tr>\n",
       "    <tr>\n",
       "      <th>103</th>\n",
       "      <td>860</td>\n",
       "      <td>0</td>\n",
       "      <td>0</td>\n",
       "      <td>0</td>\n",
       "      <td>14 photos that show the special bond between m...</td>\n",
       "    </tr>\n",
       "    <tr>\n",
       "      <th>104</th>\n",
       "      <td>15795</td>\n",
       "      <td>1</td>\n",
       "      <td>0</td>\n",
       "      <td>1</td>\n",
       "      <td>toddler makes convincing case for being afraid...</td>\n",
       "    </tr>\n",
       "    <tr>\n",
       "      <th>105</th>\n",
       "      <td>23654</td>\n",
       "      <td>0</td>\n",
       "      <td>0</td>\n",
       "      <td>0</td>\n",
       "      <td>daily meditation: by the riverside</td>\n",
       "    </tr>\n",
       "  </tbody>\n",
       "</table>\n",
       "<p>106 rows × 5 columns</p>\n",
       "</div>"
      ],
      "text/plain": [
       "     index  Fei  Yixin  Kpu                                               text\n",
       "0     8571    1      1    0  disappointing prince vaults found to contain 3...\n",
       "1     6331    0      0    0                                       sacred sites\n",
       "2    21243    1      1    1  attending 'price is right' taping apparently s...\n",
       "3    12185    1      1    1  mugger can't believe crap victim has on mp3 pl...\n",
       "4    21271    0      0    0  study finds majority of non-shark-related fear...\n",
       "..     ...  ...    ...  ...                                                ...\n",
       "101  21575    1      0    1  college newspaper staff know exactly how they ...\n",
       "102   5390    1      1    1  nation curious after discovering mysterious, e...\n",
       "103    860    0      0    0  14 photos that show the special bond between m...\n",
       "104  15795    1      0    1  toddler makes convincing case for being afraid...\n",
       "105  23654    0      0    0                 daily meditation: by the riverside\n",
       "\n",
       "[106 rows x 5 columns]"
      ]
     },
     "execution_count": 12,
     "metadata": {},
     "output_type": "execute_result"
    }
   ],
   "source": [
    "annotationResult"
   ]
  },
  {
   "cell_type": "code",
   "execution_count": 16,
   "id": "ce1aac13",
   "metadata": {},
   "outputs": [
    {
     "name": "stdout",
     "output_type": "stream",
     "text": [
      "0.558173251177963\n",
      "0.6376394386469952\n",
      "0.3819241982507289\n"
     ]
    }
   ],
   "source": [
    "from sklearn.metrics import cohen_kappa_score\n",
    "print(cohen_kappa_score(annotationResult[\"Fei\"], annotation_result))\n",
    "print(cohen_kappa_score(annotationResult[\"Yixin\"], annotation_result))\n",
    "print(cohen_kappa_score(annotationResult[\"Kpu\"], annotation_result))"
   ]
  },
  {
   "cell_type": "code",
   "execution_count": 17,
   "id": "00a92646",
   "metadata": {},
   "outputs": [],
   "source": [
    "annotation_result.to_csv(\"annotationResult.csv\")"
   ]
  },
  {
   "cell_type": "code",
   "execution_count": 17,
   "id": "9b77c414",
   "metadata": {},
   "outputs": [
    {
     "name": "stderr",
     "output_type": "stream",
     "text": [
      "[nltk_data] Downloading package stopwords to\n",
      "[nltk_data]     C:\\Users\\Kuroneko\\AppData\\Roaming\\nltk_data...\n",
      "[nltk_data]   Package stopwords is already up-to-date!\n"
     ]
    }
   ],
   "source": [
    "import nltk\n",
    "nltk.download('stopwords')\n",
    "df[\"tokenList\"] = [nltk.word_tokenize(w) for w in df[\"headLine\"]]"
   ]
  },
  {
   "cell_type": "code",
   "execution_count": 10,
   "id": "0550361a",
   "metadata": {},
   "outputs": [],
   "source": [
    "example = df[\"tokenList\"]"
   ]
  },
  {
   "cell_type": "code",
   "execution_count": 11,
   "id": "b3913a23",
   "metadata": {},
   "outputs": [
    {
     "data": {
      "text/plain": [
       "0        [former, versace, store, clerk, sues, over, se...\n",
       "1        [the, 'roseanne, ', revival, catches, up, to, ...\n",
       "2        [mom, starting, to, fear, son, 's, web, series...\n",
       "3        [boehner, just, wants, wife, to, listen, ,, no...\n",
       "4        [j.k., rowling, wishes, snape, happy, birthday...\n",
       "                               ...                        \n",
       "26704           [american, politics, in, moral, free-fall]\n",
       "26705                       [america, 's, best, 20, hikes]\n",
       "26706                            [reparations, and, obama]\n",
       "26707    [israeli, ban, targeting, boycott, supporters,...\n",
       "26708             [gourmet, gifts, for, the, foodie, 2014]\n",
       "Name: tokenList, Length: 26709, dtype: object"
      ]
     },
     "execution_count": 11,
     "metadata": {},
     "output_type": "execute_result"
    }
   ],
   "source": [
    "example"
   ]
  },
  {
   "cell_type": "code",
   "execution_count": 12,
   "id": "ebcc334d",
   "metadata": {},
   "outputs": [],
   "source": [
    "from string import punctuation\n",
    "\n",
    "example = [[y for y in w if y not in punctuation] for w in example]"
   ]
  },
  {
   "cell_type": "code",
   "execution_count": 13,
   "id": "7a93819b",
   "metadata": {},
   "outputs": [],
   "source": [
    "from string import punctuation\n",
    "df[\"tokenList\"] = [[y for y in w if y not in punctuation] for w in df[\"tokenList\"]]"
   ]
  },
  {
   "cell_type": "code",
   "execution_count": 14,
   "id": "b8530313",
   "metadata": {},
   "outputs": [],
   "source": [
    "df[\"length\"] = [len(w) for w in df[\"tokenList\"]]"
   ]
  },
  {
   "cell_type": "code",
   "execution_count": 15,
   "id": "9c3802ad",
   "metadata": {},
   "outputs": [
    {
     "data": {
      "text/plain": [
       "10.089707589202142"
      ]
     },
     "execution_count": 15,
     "metadata": {},
     "output_type": "execute_result"
    }
   ],
   "source": [
    "import numpy as np\n",
    "np.mean(df[\"length\"])\n"
   ]
  },
  {
   "cell_type": "code",
   "execution_count": 108,
   "id": "9c65ec68",
   "metadata": {},
   "outputs": [
    {
     "data": {
      "text/plain": [
       "Counter({12: 1727,\n",
       "         14: 776,\n",
       "         11: 2092,\n",
       "         5: 496,\n",
       "         7: 1051,\n",
       "         10: 2128,\n",
       "         8: 1415,\n",
       "         3: 169,\n",
       "         13: 1227,\n",
       "         9: 1870,\n",
       "         15: 476,\n",
       "         4: 278,\n",
       "         17: 133,\n",
       "         6: 738,\n",
       "         18: 48,\n",
       "         16: 224,\n",
       "         2: 66,\n",
       "         19: 26,\n",
       "         21: 11,\n",
       "         20: 19,\n",
       "         23: 3,\n",
       "         22: 5,\n",
       "         29: 1,\n",
       "         24: 2,\n",
       "         30: 1,\n",
       "         27: 1,\n",
       "         38: 1,\n",
       "         25: 1})"
      ]
     },
     "execution_count": 108,
     "metadata": {},
     "output_type": "execute_result"
    }
   ],
   "source": [
    "Counter(df[df[\"is_sarcastic\"] == 0][\"length\"])"
   ]
  },
  {
   "cell_type": "code",
   "execution_count": 98,
   "id": "a4230ec5",
   "metadata": {},
   "outputs": [
    {
     "data": {
      "text/plain": [
       "2"
      ]
     },
     "execution_count": 98,
     "metadata": {},
     "output_type": "execute_result"
    }
   ],
   "source": [
    "np.min(df[df[\"is_sarcastic\"] == 0][\"length\"])"
   ]
  },
  {
   "cell_type": "code",
   "execution_count": 63,
   "id": "3c8ecdef",
   "metadata": {},
   "outputs": [
    {
     "data": {
      "text/plain": [
       "10.0"
      ]
     },
     "execution_count": 63,
     "metadata": {},
     "output_type": "execute_result"
    }
   ],
   "source": [
    "np.median(df[\"length\"])"
   ]
  },
  {
   "cell_type": "code",
   "execution_count": 24,
   "id": "a0eaa39a",
   "metadata": {},
   "outputs": [
    {
     "data": {
      "text/plain": [
       "39"
      ]
     },
     "execution_count": 24,
     "metadata": {},
     "output_type": "execute_result"
    }
   ],
   "source": [
    "max(df[\"length\"])"
   ]
  },
  {
   "cell_type": "code",
   "execution_count": 25,
   "id": "d3269057",
   "metadata": {},
   "outputs": [
    {
     "data": {
      "text/plain": [
       "2"
      ]
     },
     "execution_count": 25,
     "metadata": {},
     "output_type": "execute_result"
    }
   ],
   "source": [
    "min(df[\"length\"])"
   ]
  },
  {
   "cell_type": "code",
   "execution_count": 105,
   "id": "8b6e1de4",
   "metadata": {},
   "outputs": [
    {
     "data": {
      "text/plain": [
       "Text(0, 0.5, 'count')"
      ]
     },
     "execution_count": 105,
     "metadata": {},
     "output_type": "execute_result"
    },
    {
     "data": {
      "image/png": "[encoded data removed]",
      "text/plain": [
       "<Figure size 432x288 with 1 Axes>"
      ]
     },
     "metadata": {
      "needs_background": "light"
     },
     "output_type": "display_data"
    }
   ],
   "source": [
    "import matplotlib.pyplot as plt\n",
    "\n",
    "plt.hist(df[df[\"is_sarcastic\"] == 0][\"length\"])\n",
    "plt.title(\"Headline Length Distribution\")\n",
    "plt.xlabel(\"word length\")\n",
    "plt.ylabel(\"count\")"
   ]
  },
  {
   "cell_type": "code",
   "execution_count": 27,
   "id": "812cb7a0",
   "metadata": {},
   "outputs": [],
   "source": [
    "dfPos = df[df[\"is_sarcastic\"] == 1]\n",
    "dfNeg = df[df[\"is_sarcastic\"] == 0]"
   ]
  },
  {
   "cell_type": "code",
   "execution_count": 18,
   "id": "a32c96fe",
   "metadata": {},
   "outputs": [],
   "source": [
    "import nltk\n",
    "stopwords = nltk.corpus.stopwords.words('english')"
   ]
  },
  {
   "cell_type": "code",
   "execution_count": 74,
   "id": "2f616517",
   "metadata": {},
   "outputs": [
    {
     "data": {
      "text/plain": [
       "['i',\n",
       " 'me',\n",
       " 'my',\n",
       " 'myself',\n",
       " 'we',\n",
       " 'our',\n",
       " 'ours',\n",
       " 'ourselves',\n",
       " 'you',\n",
       " \"you're\",\n",
       " \"you've\",\n",
       " \"you'll\",\n",
       " \"you'd\",\n",
       " 'your',\n",
       " 'yours',\n",
       " 'yourself',\n",
       " 'yourselves',\n",
       " 'he',\n",
       " 'him',\n",
       " 'his',\n",
       " 'himself',\n",
       " 'she',\n",
       " \"she's\",\n",
       " 'her',\n",
       " 'hers',\n",
       " 'herself',\n",
       " 'it',\n",
       " \"it's\",\n",
       " 'its',\n",
       " 'itself',\n",
       " 'they',\n",
       " 'them',\n",
       " 'their',\n",
       " 'theirs',\n",
       " 'themselves',\n",
       " 'what',\n",
       " 'which',\n",
       " 'who',\n",
       " 'whom',\n",
       " 'this',\n",
       " 'that',\n",
       " \"that'll\",\n",
       " 'these',\n",
       " 'those',\n",
       " 'am',\n",
       " 'is',\n",
       " 'are',\n",
       " 'was',\n",
       " 'were',\n",
       " 'be',\n",
       " 'been',\n",
       " 'being',\n",
       " 'have',\n",
       " 'has',\n",
       " 'had',\n",
       " 'having',\n",
       " 'do',\n",
       " 'does',\n",
       " 'did',\n",
       " 'doing',\n",
       " 'a',\n",
       " 'an',\n",
       " 'the',\n",
       " 'and',\n",
       " 'but',\n",
       " 'if',\n",
       " 'or',\n",
       " 'because',\n",
       " 'as',\n",
       " 'until',\n",
       " 'while',\n",
       " 'of',\n",
       " 'at',\n",
       " 'by',\n",
       " 'for',\n",
       " 'with',\n",
       " 'about',\n",
       " 'against',\n",
       " 'between',\n",
       " 'into',\n",
       " 'through',\n",
       " 'during',\n",
       " 'before',\n",
       " 'after',\n",
       " 'above',\n",
       " 'below',\n",
       " 'to',\n",
       " 'from',\n",
       " 'up',\n",
       " 'down',\n",
       " 'in',\n",
       " 'out',\n",
       " 'on',\n",
       " 'off',\n",
       " 'over',\n",
       " 'under',\n",
       " 'again',\n",
       " 'further',\n",
       " 'then',\n",
       " 'once',\n",
       " 'here',\n",
       " 'there',\n",
       " 'when',\n",
       " 'where',\n",
       " 'why',\n",
       " 'how',\n",
       " 'all',\n",
       " 'any',\n",
       " 'both',\n",
       " 'each',\n",
       " 'few',\n",
       " 'more',\n",
       " 'most',\n",
       " 'other',\n",
       " 'some',\n",
       " 'such',\n",
       " 'no',\n",
       " 'nor',\n",
       " 'not',\n",
       " 'only',\n",
       " 'own',\n",
       " 'same',\n",
       " 'so',\n",
       " 'than',\n",
       " 'too',\n",
       " 'very',\n",
       " 's',\n",
       " 't',\n",
       " 'can',\n",
       " 'will',\n",
       " 'just',\n",
       " 'don',\n",
       " \"don't\",\n",
       " 'should',\n",
       " \"should've\",\n",
       " 'now',\n",
       " 'd',\n",
       " 'll',\n",
       " 'm',\n",
       " 'o',\n",
       " 're',\n",
       " 've',\n",
       " 'y',\n",
       " 'ain',\n",
       " 'aren',\n",
       " \"aren't\",\n",
       " 'couldn',\n",
       " \"couldn't\",\n",
       " 'didn',\n",
       " \"didn't\",\n",
       " 'doesn',\n",
       " \"doesn't\",\n",
       " 'hadn',\n",
       " \"hadn't\",\n",
       " 'hasn',\n",
       " \"hasn't\",\n",
       " 'haven',\n",
       " \"haven't\",\n",
       " 'isn',\n",
       " \"isn't\",\n",
       " 'ma',\n",
       " 'mightn',\n",
       " \"mightn't\",\n",
       " 'mustn',\n",
       " \"mustn't\",\n",
       " 'needn',\n",
       " \"needn't\",\n",
       " 'shan',\n",
       " \"shan't\",\n",
       " 'shouldn',\n",
       " \"shouldn't\",\n",
       " 'wasn',\n",
       " \"wasn't\",\n",
       " 'weren',\n",
       " \"weren't\",\n",
       " 'won',\n",
       " \"won't\",\n",
       " 'wouldn',\n",
       " \"wouldn't\"]"
      ]
     },
     "execution_count": 74,
     "metadata": {},
     "output_type": "execute_result"
    }
   ],
   "source": [
    "stopwords"
   ]
  },
  {
   "cell_type": "code",
   "execution_count": 19,
   "id": "22750ac9",
   "metadata": {},
   "outputs": [],
   "source": [
    "WordList = [w for x in df[\"tokenList\"] for w in x if w not in stopwords]\n",
    "VocabWordList = np.unique(WordList)"
   ]
  },
  {
   "cell_type": "code",
   "execution_count": 23,
   "id": "08683025",
   "metadata": {},
   "outputs": [
    {
     "data": {
      "text/plain": [
       "'shoppers'"
      ]
     },
     "execution_count": 23,
     "metadata": {},
     "output_type": "execute_result"
    }
   ],
   "source": [
    "WordList[10]"
   ]
  },
  {
   "cell_type": "code",
   "execution_count": null,
   "id": "428ad93a",
   "metadata": {},
   "outputs": [],
   "source": [
    "from tqdm import tqdm\n",
    "for eachWord in tqdm(VocabWordList):\n",
    "    wo"
   ]
  },
  {
   "cell_type": "code",
   "execution_count": 22,
   "id": "f7dfa9fc",
   "metadata": {},
   "outputs": [
    {
     "ename": "KeyboardInterrupt",
     "evalue": "",
     "output_type": "error",
     "traceback": [
      "\u001b[1;31m---------------------------------------------------------------------------\u001b[0m",
      "\u001b[1;31mKeyboardInterrupt\u001b[0m                         Traceback (most recent call last)",
      "Input \u001b[1;32mIn [22]\u001b[0m, in \u001b[0;36m<cell line: 1>\u001b[1;34m()\u001b[0m\n\u001b[1;32m----> 1\u001b[0m VocabWordCount \u001b[38;5;241m=\u001b[39m [WordList\u001b[38;5;241m.\u001b[39mcount(w) \u001b[38;5;28;01mfor\u001b[39;00m w \u001b[38;5;129;01min\u001b[39;00m VocabWordList]\n",
      "Input \u001b[1;32mIn [22]\u001b[0m, in \u001b[0;36m<listcomp>\u001b[1;34m(.0)\u001b[0m\n\u001b[1;32m----> 1\u001b[0m VocabWordCount \u001b[38;5;241m=\u001b[39m [WordList\u001b[38;5;241m.\u001b[39mcount(w) \u001b[38;5;28;01mfor\u001b[39;00m w \u001b[38;5;129;01min\u001b[39;00m VocabWordList]\n",
      "\u001b[1;31mKeyboardInterrupt\u001b[0m: "
     ]
    }
   ],
   "source": [
    "VocabWordCount = [WordList.count(w) for w in VocabWordList]"
   ]
  },
  {
   "cell_type": "code",
   "execution_count": 25,
   "id": "c344bcef",
   "metadata": {},
   "outputs": [],
   "source": [
    "wordCount = []"
   ]
  },
  {
   "cell_type": "code",
   "execution_count": 26,
   "id": "2834f4a3",
   "metadata": {},
   "outputs": [
    {
     "name": "stderr",
     "output_type": "stream",
     "text": [
      "100%|████████████████████████████████████████████████████████████████████████████| 29145/29145 [07:39<00:00, 63.45it/s]\n"
     ]
    }
   ],
   "source": [
    "from tqdm import tqdm\n",
    "for eachWord in tqdm(VocabWordList):\n",
    "    wordCount.append(WordList.count(eachWord))"
   ]
  },
  {
   "cell_type": "code",
   "execution_count": 89,
   "id": "0f380523",
   "metadata": {},
   "outputs": [],
   "source": [
    "PositiveDF = pd.DataFrame(data = {\"word\" : VocabWordList,\"count\" : wordCount}).sort_values(by = \"count\",ascending=False)"
   ]
  },
  {
   "cell_type": "code",
   "execution_count": 91,
   "id": "b877138f",
   "metadata": {
    "scrolled": false
   },
   "outputs": [
    {
     "data": {
      "text/html": [
       "<div>\n",
       "<style scoped>\n",
       "    .dataframe tbody tr th:only-of-type {\n",
       "        vertical-align: middle;\n",
       "    }\n",
       "\n",
       "    .dataframe tbody tr th {\n",
       "        vertical-align: top;\n",
       "    }\n",
       "\n",
       "    .dataframe thead th {\n",
       "        text-align: right;\n",
       "    }\n",
       "</style>\n",
       "<table border=\"1\" class=\"dataframe\">\n",
       "  <thead>\n",
       "    <tr style=\"text-align: right;\">\n",
       "      <th></th>\n",
       "      <th>word</th>\n",
       "      <th>count</th>\n",
       "    </tr>\n",
       "  </thead>\n",
       "  <tbody>\n",
       "    <tr>\n",
       "      <th>1412</th>\n",
       "      <td>'s</td>\n",
       "      <td>4804</td>\n",
       "    </tr>\n",
       "    <tr>\n",
       "      <th>26956</th>\n",
       "      <td>trump</td>\n",
       "      <td>1636</td>\n",
       "    </tr>\n",
       "    <tr>\n",
       "      <th>18337</th>\n",
       "      <td>new</td>\n",
       "      <td>1499</td>\n",
       "    </tr>\n",
       "    <tr>\n",
       "      <th>16676</th>\n",
       "      <td>man</td>\n",
       "      <td>1373</td>\n",
       "    </tr>\n",
       "    <tr>\n",
       "      <th>18074</th>\n",
       "      <td>n't</td>\n",
       "      <td>1055</td>\n",
       "    </tr>\n",
       "    <tr>\n",
       "      <th>22152</th>\n",
       "      <td>report</td>\n",
       "      <td>514</td>\n",
       "    </tr>\n",
       "    <tr>\n",
       "      <th>18974</th>\n",
       "      <td>one</td>\n",
       "      <td>503</td>\n",
       "    </tr>\n",
       "    <tr>\n",
       "      <th>3805</th>\n",
       "      <td>area</td>\n",
       "      <td>485</td>\n",
       "    </tr>\n",
       "    <tr>\n",
       "      <th>28727</th>\n",
       "      <td>woman</td>\n",
       "      <td>476</td>\n",
       "    </tr>\n",
       "    <tr>\n",
       "      <th>9474</th>\n",
       "      <td>donald</td>\n",
       "      <td>470</td>\n",
       "    </tr>\n",
       "  </tbody>\n",
       "</table>\n",
       "</div>"
      ],
      "text/plain": [
       "         word  count\n",
       "1412       's   4804\n",
       "26956   trump   1636\n",
       "18337     new   1499\n",
       "16676     man   1373\n",
       "18074     n't   1055\n",
       "22152  report    514\n",
       "18974     one    503\n",
       "3805     area    485\n",
       "28727   woman    476\n",
       "9474   donald    470"
      ]
     },
     "execution_count": 91,
     "metadata": {},
     "output_type": "execute_result"
    }
   ],
   "source": [
    "PositiveDF.head(10)"
   ]
  },
  {
   "cell_type": "code",
   "execution_count": null,
   "id": "2844ae64",
   "metadata": {},
   "outputs": [],
   "source": []
  }
 ],
 "metadata": {
  "kernelspec": {
   "display_name": "Python 3 (ipykernel)",
   "language": "python",
   "name": "python3"
  },
  "language_info": {
   "codemirror_mode": {
    "name": "ipython",
    "version": 3
   },
   "file_extension": ".py",
   "mimetype": "text/x-python",
   "name": "python",
   "nbconvert_exporter": "python",
   "pygments_lexer": "ipython3",
   "version": "3.9.12"
  }
 },
 "nbformat": 4,
 "nbformat_minor": 5
}
